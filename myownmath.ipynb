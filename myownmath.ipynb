{
 "cells": [
  {
   "cell_type": "code",
   "execution_count": 148,
   "metadata": {},
   "outputs": [],
   "source": [
    "import math\n"
   ]
  },
  {
   "cell_type": "code",
   "execution_count": 149,
   "metadata": {},
   "outputs": [],
   "source": [
    "def decdeg2dms(dd):\n",
    "    is_positive = dd >= 0\n",
    "    dd = abs(dd)\n",
    "    minutes, seconds = divmod(dd*3600, 60)\n",
    "    degrees, minutes = divmod(minutes, 60)\n",
    "    degrees = degrees if is_positive else -degrees\n",
    "    return (round(degrees, 4), round(minutes, 4), round(seconds, 4))\n",
    "\n",
    "\n",
    "def printdegrees(str, dd):\n",
    "    dms = decdeg2dms(dd)\n",
    "    print(str, \" = \", dms[0], chr(176), \" \",\n",
    "          dms[1], chr(39), \" \", dms[2], chr(34), sep='')\n"
   ]
  },
  {
   "cell_type": "code",
   "execution_count": 150,
   "metadata": {},
   "outputs": [
    {
     "name": "stdout",
     "output_type": "stream",
     "text": [
      "Radius of tracker in mm: 226.06\n"
     ]
    }
   ],
   "source": [
    "# Some global variables\n",
    "\n",
    "# max 9\n",
    "radius_of_tracker_in_inches = 8.9 # inches\n",
    "radius_of_tracker_in_mm = radius_of_tracker_in_inches * 25.4\n",
    "print(\"Radius of tracker in mm:\", radius_of_tracker_in_mm)\n"
   ]
  },
  {
   "cell_type": "code",
   "execution_count": 151,
   "metadata": {},
   "outputs": [
    {
     "name": "stdout",
     "output_type": "stream",
     "text": [
      "radius_of_tracker_in_inches =  8.9 inch\n",
      "thread_pitch =  1 mm\n",
      "angle_of_one_thread_revolution = = 0.0° 15.0' 12.4369\"\n"
     ]
    }
   ],
   "source": [
    "angle_of_one_thread_revolution = 0  # degrees\n",
    "thread_pitch_in_mm = 1\n",
    "\n",
    "# angle_of_one_thread_revolution = (180/math.pi)*math.asin(radius_of_tracker_in_mm/radius_of_tracker_in_mm) - math.asin(\n",
    "#     (radius_of_tracker_in_mm-thread_pitch_in_mm)/radius_of_tracker_in_mm)\n",
    "\n",
    "# sin(theta) = altitude / hypotneus\n",
    "\n",
    "angle_of_one_thread_revolution = (\n",
    "    180/math.pi)*math.asin(thread_pitch_in_mm/radius_of_tracker_in_mm)\n",
    "\n",
    "# angle_of_one_thread_revolution = (180/math.pi)*math.acos((radius_of_tracker_in_mm**2 + radius_of_tracker_in_mm**2 -\n",
    "#                                                           thread_pitch_in_mm**2) / (2 * radius_of_tracker_in_mm * radius_of_tracker_in_mm))\n",
    "\n",
    "print(\"radius_of_tracker_in_inches = \", radius_of_tracker_in_inches, \"inch\")\n",
    "print(\"thread_pitch = \", thread_pitch_in_mm, \"mm\")\n",
    "printdegrees(\"angle_of_one_thread_revolution =\",\n",
    "             angle_of_one_thread_revolution)\n"
   ]
  },
  {
   "cell_type": "code",
   "execution_count": 152,
   "metadata": {},
   "outputs": [
    {
     "name": "stdout",
     "output_type": "stream",
     "text": [
      "motor_rpm =  6  rpm\n",
      "output_rpm =  1.0666666666666667  rpm\n",
      "Gear reduction =  0.17777777777777778\n"
     ]
    }
   ],
   "source": [
    "min_motor_rpm = 6  # rpm\n",
    "motor_gear_teeth = 16\n",
    "driven_gear_teeth = 90\n",
    "gear_reduction = motor_gear_teeth/driven_gear_teeth\n",
    "output_rpm = min_motor_rpm * gear_reduction\n",
    "\n",
    "print(\"motor_rpm = \", min_motor_rpm, \" rpm\")\n",
    "print(\"output_rpm = \", output_rpm, \" rpm\")\n",
    "print(\"Gear reduction = \", gear_reduction)\n"
   ]
  },
  {
   "cell_type": "code",
   "execution_count": 153,
   "metadata": {},
   "outputs": [
    {
     "name": "stdout",
     "output_type": "stream",
     "text": [
      "motor_rpm =  6  rpm\n",
      "output_rpm =  1.0666666666666667  rpm\n",
      "Gear reduction =  0.17777777777777778\n"
     ]
    }
   ],
   "source": [
    "output_rpm = min_motor_rpm * gear_reduction\n",
    "\n",
    "print(\"motor_rpm = \", min_motor_rpm, \" rpm\")\n",
    "print(\"output_rpm = \", output_rpm, \" rpm\")\n",
    "print(\"Gear reduction = \", gear_reduction)\n"
   ]
  },
  {
   "cell_type": "code",
   "execution_count": 154,
   "metadata": {},
   "outputs": [
    {
     "name": "stdout",
     "output_type": "stream",
     "text": [
      "Degrees per second:  0.004178074568511751\n",
      "Degrees per minute:  0.25068447411070505\n",
      "Degrees per hour:  15.041068446642305\n",
      "Degrees per day:  360.9856427194153\n"
     ]
    }
   ],
   "source": [
    "sidereal_day_hours = 23.9344699\n",
    "# rads_per_sec = 2*math.pi/sidereal_day_hours/3600\n",
    "# degrees_per_sec = rads_per_sec*180/math.pi\n",
    "degrees_per_sec = 360/sidereal_day_hours/3600\n",
    "degrees_per_minute = degrees_per_sec*60\n",
    "degrees_per_hour = degrees_per_sec*3600\n",
    "degrees_per_day = degrees_per_sec*3600*24\n",
    "# print(\"Radians per second: \", rads_per_sec)\n",
    "print(\"Degrees per second: \", degrees_per_sec)\n",
    "print(\"Degrees per minute: \", degrees_per_minute)\n",
    "print(\"Degrees per hour: \", degrees_per_hour)\n",
    "print(\"Degrees per day: \", degrees_per_day)\n"
   ]
  },
  {
   "cell_type": "code",
   "execution_count": 155,
   "metadata": {},
   "outputs": [
    {
     "name": "stdout",
     "output_type": "stream",
     "text": [
      "output_rpm =  1.0666666666666667  rpm\n",
      "output_rps =  0.017777777777777778  rps\n",
      "tracker_angle_increase_per_second =  = 0.0° 0.0' 16.2211\"\n",
      "Required degrees per second: = 0.0° 0.0' 15.0411\"\n",
      "Too fast, reduce motor speed\n",
      "Extra degrees per second: = 0.0° 0.0' 1.18\"\n"
     ]
    }
   ],
   "source": [
    "output_rps = output_rpm/60\n",
    "print(\"output_rpm = \", output_rpm, \" rpm\")\n",
    "print(\"output_rps = \", output_rps, \" rps\")\n",
    "tracker_angle_increase_per_second = output_rps * angle_of_one_thread_revolution\n",
    "printdegrees(\"tracker_angle_increase_per_second = \",\n",
    "             tracker_angle_increase_per_second)\n",
    "printdegrees(\"Required degrees per second:\", degrees_per_sec)\n",
    "\n",
    "if (degrees_per_sec > tracker_angle_increase_per_second):\n",
    "    print(\"Too slow, increase motor speed\")\n",
    "\n",
    "    extra_degrees_needed_per_sec = degrees_per_sec - tracker_angle_increase_per_second\n",
    "    printdegrees(\"Extra degrees needed per second:\",\n",
    "                 extra_degrees_needed_per_sec)\n",
    "\n",
    "\n",
    "elif (degrees_per_sec < tracker_angle_increase_per_second):\n",
    "    print(\"Too fast, reduce motor speed\")\n",
    "\n",
    "    extra_degrees_per_sec = tracker_angle_increase_per_second - degrees_per_sec\n",
    "    printdegrees(\"Extra degrees per second:\", extra_degrees_per_sec)\n",
    "\n",
    "\n",
    "elif (degrees_per_sec == tracker_angle_increase_per_second):\n",
    "    print(\"Tracker will keep up with the stars\")\n"
   ]
  },
  {
   "cell_type": "code",
   "execution_count": 156,
   "metadata": {},
   "outputs": [
    {
     "name": "stdout",
     "output_type": "stream",
     "text": [
      "tracker_angle_increase_per_minute: = 0.0° 16.0' 13.266\"\n",
      "Required degrees per minute:       = 0.0° 15.0' 2.4641\"\n",
      "Too fast, reduce motor speed\n",
      "Extra degrees per minute: = 0.0° 1.0' 10.92\"\n"
     ]
    }
   ],
   "source": [
    "tracker_angle_increase_per_minute = tracker_angle_increase_per_second * 60\n",
    "printdegrees(\"tracker_angle_increase_per_minute:\",\n",
    "             tracker_angle_increase_per_minute)\n",
    "printdegrees(\"Required degrees per minute:      \", degrees_per_minute)\n",
    "if (degrees_per_minute > tracker_angle_increase_per_minute):\n",
    "    print(\"Too slow, increase motor speed\")\n",
    "\n",
    "    extra_degrees_needed_per_minute = round(\n",
    "        degrees_per_minute - tracker_angle_increase_per_minute, 4)\n",
    "    printdegrees(\"Extra degrees needed per minute:\",\n",
    "                 extra_degrees_needed_per_minute)\n",
    "\n",
    "elif (degrees_per_minute < tracker_angle_increase_per_minute):\n",
    "    print(\"Too fast, reduce motor speed\")\n",
    "\n",
    "    extra_degrees_per_minute = round(\n",
    "        tracker_angle_increase_per_minute - degrees_per_minute, 4)\n",
    "    printdegrees(\"Extra degrees per minute:\", extra_degrees_per_minute)\n",
    "\n",
    "elif (degrees_per_minute == tracker_angle_increase_per_minute):\n",
    "    print(\"Tracker will keep up with the stars\")\n"
   ]
  },
  {
   "cell_type": "code",
   "execution_count": 157,
   "metadata": {},
   "outputs": [
    {
     "name": "stdout",
     "output_type": "stream",
     "text": [
      "tracker_angle_increase_per_15_seconds: = 0.0° 4.0' 3.3165\"\n",
      "Required degrees per 15 seconds:       = 0.0° 3.0' 45.616\"\n",
      "Too fast, reduce motor speed\n",
      "Extra degrees per 15 seconds: = 0.0° 0.0' 17.64\"\n"
     ]
    }
   ],
   "source": [
    "tracker_angle_increase_per_15_seconds = tracker_angle_increase_per_second * 15\n",
    "printdegrees(\"tracker_angle_increase_per_15_seconds:\",\n",
    "             tracker_angle_increase_per_15_seconds)\n",
    "printdegrees(\"Required degrees per 15 seconds:      \", degrees_per_sec*15)\n",
    "if(degrees_per_sec*15 > tracker_angle_increase_per_15_seconds):\n",
    "    print(\"Too slow, increase motor speed\")\n",
    "\n",
    "    extra_degrees_needed_per_15_seconds = round(\n",
    "        degrees_per_sec*15 - tracker_angle_increase_per_15_seconds, 4)\n",
    "    printdegrees(\"Extra degrees needed per 15 seconds:\",\n",
    "                 extra_degrees_needed_per_15_seconds)\n",
    "elif(degrees_per_sec*15 < tracker_angle_increase_per_15_seconds):\n",
    "    print(\"Too fast, reduce motor speed\")\n",
    "\n",
    "    extra_degrees_per_15_seconds = round(\n",
    "        tracker_angle_increase_per_15_seconds - degrees_per_sec*15, 4)\n",
    "    printdegrees(\"Extra degrees per 15 seconds:\",\n",
    "                 extra_degrees_per_15_seconds)\n",
    "elif(degrees_per_sec*15 == tracker_angle_increase_per_15_seconds):\n",
    "    print(\"Tracker will keep up with the stars\")"
   ]
  },
  {
   "cell_type": "code",
   "execution_count": 158,
   "metadata": {},
   "outputs": [
    {
     "name": "stdout",
     "output_type": "stream",
     "text": [
      "tracker_angle_increase_per_30_seconds: = 0.0° 8.0' 6.633\"\n",
      "Required degrees per 30 seconds:       = 0.0° 7.0' 31.2321\"\n",
      "Too fast, reduce motor speed\n",
      "Extra degrees per 30 seconds: = 0.0° 0.0' 35.28\"\n"
     ]
    }
   ],
   "source": [
    "# write code for 30 seconds here\n",
    "tracker_angle_increase_per_30_seconds = tracker_angle_increase_per_second * 30\n",
    "printdegrees(\"tracker_angle_increase_per_30_seconds:\",\n",
    "             tracker_angle_increase_per_30_seconds)\n",
    "printdegrees(\"Required degrees per 30 seconds:      \", degrees_per_sec*30)\n",
    "if(degrees_per_sec*30 > tracker_angle_increase_per_30_seconds):\n",
    "    print(\"Too slow, increase motor speed\")\n",
    "\n",
    "    extra_degrees_needed_per_30_seconds = round(\n",
    "        degrees_per_sec*30 - tracker_angle_increase_per_30_seconds, 4)\n",
    "    printdegrees(\"Extra degrees needed per 30 seconds:\",\n",
    "                 extra_degrees_needed_per_30_seconds)\n",
    "elif(degrees_per_sec*30 < tracker_angle_increase_per_30_seconds):\n",
    "    print(\"Too fast, reduce motor speed\")\n",
    "\n",
    "    extra_degrees_per_30_seconds = round(\n",
    "        tracker_angle_increase_per_30_seconds - degrees_per_sec*30, 4)\n",
    "    printdegrees(\"Extra degrees per 30 seconds:\",\n",
    "                 extra_degrees_per_30_seconds)\n",
    "elif(degrees_per_sec*30 == tracker_angle_increase_per_30_seconds):\n",
    "    print(\"Tracker will keep up with the stars\")\n"
   ]
  },
  {
   "cell_type": "code",
   "execution_count": 159,
   "metadata": {},
   "outputs": [
    {
     "name": "stdout",
     "output_type": "stream",
     "text": [
      "tracker_angle_increase_per_four_minutes: = 1.0° 4.0' 53.064\"\n",
      "Required degrees per four minutes:       = 1.0° 0.0' 9.8564\"\n",
      "Too fast, reduce motor speed\n",
      "Extra degrees per four minutes: = 0.0° 4.0' 43.32\"\n"
     ]
    }
   ],
   "source": [
    "tracker_angle_increase_per_four_minutes = tracker_angle_increase_per_minute * 4\n",
    "printdegrees(\"tracker_angle_increase_per_four_minutes:\",\n",
    "             tracker_angle_increase_per_four_minutes)\n",
    "printdegrees(\"Required degrees per four minutes:      \", degrees_per_minute*4)\n",
    "if (degrees_per_minute*4 > tracker_angle_increase_per_four_minutes):\n",
    "    print(\"Too slow, increase motor speed\")\n",
    "\n",
    "    extra_degrees_needed_per_four_minutes = round(\n",
    "        degrees_per_minute*4 - tracker_angle_increase_per_four_minutes, 4)\n",
    "    printdegrees(\"Extra degrees needed per four minutes:\",\n",
    "                 extra_degrees_needed_per_four_minutes)\n",
    "elif (degrees_per_minute*4 < tracker_angle_increase_per_four_minutes):\n",
    "    print(\"Too fast, reduce motor speed\")\n",
    "\n",
    "    extra_degrees_per_four_minutes = round(\n",
    "        tracker_angle_increase_per_four_minutes - degrees_per_minute*4, 4)\n",
    "    printdegrees(\"Extra degrees per four minutes:\",\n",
    "                 extra_degrees_per_four_minutes)\n",
    "elif (degrees_per_minute*4 == tracker_angle_increase_per_four_minutes):\n",
    "    print(\"Tracker will keep up with the stars\")\n"
   ]
  }
 ],
 "metadata": {
  "kernelspec": {
   "display_name": "Python 3",
   "language": "python",
   "name": "python3"
  },
  "language_info": {
   "codemirror_mode": {
    "name": "ipython",
    "version": 3
   },
   "file_extension": ".py",
   "mimetype": "text/x-python",
   "name": "python",
   "nbconvert_exporter": "python",
   "pygments_lexer": "ipython3",
   "version": "3.9.9"
  },
  "orig_nbformat": 4,
  "vscode": {
   "interpreter": {
    "hash": "5df6ca444063a27ed57beb5c2085eca29b5d92a069817c6b1e25c891852fa826"
   }
  }
 },
 "nbformat": 4,
 "nbformat_minor": 2
}
