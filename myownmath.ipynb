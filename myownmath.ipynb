{
 "cells": [
  {
   "cell_type": "code",
   "execution_count": 1,
   "metadata": {},
   "outputs": [],
   "source": [
    "import math\n"
   ]
  },
  {
   "cell_type": "code",
   "execution_count": 2,
   "metadata": {},
   "outputs": [],
   "source": [
    "# Some global variables\n",
    "\n",
    "# max 9\n",
    "radius_of_tracker_in_inches = 9  # inches\n",
    "radius_of_tracker_in_mm = radius_of_tracker_in_inches * 24.5\n"
   ]
  },
  {
   "cell_type": "code",
   "execution_count": 3,
   "metadata": {},
   "outputs": [
    {
     "name": "stdout",
     "output_type": "stream",
     "text": [
      "radius_of_tracker_in_inches =  9 inch\n",
      "thread_pitch =  1 mm\n",
      "angle_of_one_thread_revolution =  0.09527412524880585 degrees\n"
     ]
    }
   ],
   "source": [
    "angle_of_one_thread_revolution = 0  # degrees\n",
    "thread_pitch_in_mm = 1\n",
    "\n",
    "angle_of_one_thread_revolution = math.asin(radius_of_tracker_in_mm/radius_of_tracker_in_mm) - math.asin(\n",
    "    (radius_of_tracker_in_mm-thread_pitch_in_mm)/radius_of_tracker_in_mm)\n",
    "\n",
    "print(\"radius_of_tracker_in_inches = \", radius_of_tracker_in_inches, \"inch\")\n",
    "print(\"thread_pitch = \", thread_pitch_in_mm, \"mm\")\n",
    "print(\"angle_of_one_thread_revolution = \",\n",
    "      angle_of_one_thread_revolution, \"degrees\")\n",
    "\n",
    "# print(\"Revolutions required to move the tracker 1 inch = \", 1/angle_of_one_thread_revolution, \"revolutions\")\n"
   ]
  },
  {
   "cell_type": "code",
   "execution_count": 4,
   "metadata": {},
   "outputs": [
    {
     "name": "stdout",
     "output_type": "stream",
     "text": [
      "motor_rpm =  13  rpm\n",
      "output_rpm =  2.6  rpm\n",
      "Gear reduction =  0.2\n"
     ]
    }
   ],
   "source": [
    "min_motor_rpm = 13  # rpm\n",
    "motor_gear_teeth = 18\n",
    "driven_gear_teeth = 90\n",
    "gear_reduction = motor_gear_teeth/driven_gear_teeth\n",
    "output_rpm = min_motor_rpm * gear_reduction\n",
    "\n",
    "print(\"motor_rpm = \", min_motor_rpm, \" rpm\")\n",
    "print(\"output_rpm = \", output_rpm, \" rpm\")\n",
    "print(\"Gear reduction = \", gear_reduction)\n"
   ]
  },
  {
   "cell_type": "code",
   "execution_count": 5,
   "metadata": {},
   "outputs": [],
   "source": [
    "def decdeg2dms(dd):\n",
    "    is_positive = dd >= 0\n",
    "    dd = abs(dd)\n",
    "    minutes, seconds = divmod(dd*3600, 60)\n",
    "    degrees, minutes = divmod(minutes, 60)\n",
    "    degrees = degrees if is_positive else -degrees\n",
    "    return (round(degrees, 4), round(minutes, 4), round(seconds, 4))\n"
   ]
  },
  {
   "cell_type": "code",
   "execution_count": 6,
   "metadata": {},
   "outputs": [],
   "source": [
    "def printdegrees(str, dd):\n",
    "    dms = decdeg2dms(dd)\n",
    "    print(str, \" = \", dms[0], chr(176),\" \",\n",
    "          dms[1], chr(39),\" \", dms[2], chr(34), sep='')\n"
   ]
  },
  {
   "cell_type": "code",
   "execution_count": 7,
   "metadata": {},
   "outputs": [
    {
     "name": "stdout",
     "output_type": "stream",
     "text": [
      "Degrees per second:  0.004178074568511751\n",
      "Degrees per minute:  0.25068447411070505\n",
      "Degrees per hour:  15.041068446642305\n",
      "Degrees per day:  360.9856427194153\n"
     ]
    }
   ],
   "source": [
    "sidereal_day_hours = 23.9344699\n",
    "# rads_per_sec = 2*math.pi/sidereal_day_hours/3600\n",
    "# degrees_per_sec = rads_per_sec*180/math.pi\n",
    "degrees_per_sec = 360/sidereal_day_hours/3600\n",
    "degrees_per_minute = degrees_per_sec*60\n",
    "degrees_per_hour = degrees_per_sec*3600\n",
    "degrees_per_day = degrees_per_sec*3600*24\n",
    "# print(\"Radians per second: \", rads_per_sec)\n",
    "print(\"Degrees per second: \", degrees_per_sec)\n",
    "print(\"Degrees per minute: \", degrees_per_minute)\n",
    "print(\"Degrees per hour: \", degrees_per_hour)\n",
    "print(\"Degrees per day: \", degrees_per_day)\n"
   ]
  },
  {
   "cell_type": "code",
   "execution_count": 8,
   "metadata": {},
   "outputs": [
    {
     "name": "stdout",
     "output_type": "stream",
     "text": [
      "tracker_angle_increase_per_second =  = 0.0° 0.0' 14.8628\"\n",
      "Required degrees per second: = 0.0° 0.0' 15.0411\"\n",
      "Too slow, increase motor speed\n",
      "Extra degrees needed per second: = 0.0° 0.0' 0.1783\"\n"
     ]
    }
   ],
   "source": [
    "tracker_angle_increase_per_second = output_rpm / 60 * angle_of_one_thread_revolution\n",
    "printdegrees(\"tracker_angle_increase_per_second = \", tracker_angle_increase_per_second)\n",
    "printdegrees(\"Required degrees per second:\", degrees_per_sec)\n",
    "\n",
    "if (degrees_per_sec > tracker_angle_increase_per_second):\n",
    "    print(\"Too slow, increase motor speed\")\n",
    "    \n",
    "    extra_degrees_needed_per_sec = degrees_per_sec - tracker_angle_increase_per_second\n",
    "    printdegrees(\"Extra degrees needed per second:\", extra_degrees_needed_per_sec)\n",
    "    \n",
    "    \n",
    "elif (degrees_per_sec < tracker_angle_increase_per_second):\n",
    "    print(\"Too fast, reduce motor speed\")\n",
    "    \n",
    "    extra_degrees_per_sec = tracker_angle_increase_per_second - degrees_per_sec\n",
    "    printdegrees(\"Extra degrees per second:\", extra_degrees_per_sec)\n",
    "\n",
    "\n",
    "elif (degrees_per_sec == tracker_angle_increase_per_second):\n",
    "    print(\"Tracker will keep up with the sun\")\n"
   ]
  },
  {
   "cell_type": "code",
   "execution_count": 9,
   "metadata": {},
   "outputs": [
    {
     "name": "stdout",
     "output_type": "stream",
     "text": [
      "tracker_angle_increase_per_minute: = 0.0° 14.0' 51.7658\"\n",
      "Required degrees per minute:       = 0.0° 15.0' 2.4641\"\n",
      "Too slow, increase motor speed\n",
      "Extra degrees needed per minute: = 0.0° 0.0' 10.8\"\n"
     ]
    }
   ],
   "source": [
    "tracker_angle_increase_per_minute = tracker_angle_increase_per_second * 60\n",
    "printdegrees(\"tracker_angle_increase_per_minute:\",tracker_angle_increase_per_minute)\n",
    "printdegrees(\"Required degrees per minute:      \", degrees_per_minute)\n",
    "if (degrees_per_minute > tracker_angle_increase_per_minute):\n",
    "    print(\"Too slow, increase motor speed\")\n",
    "    \n",
    "    extra_degrees_needed_per_minute = round(degrees_per_minute - tracker_angle_increase_per_minute,4)\n",
    "    printdegrees(\"Extra degrees needed per minute:\", extra_degrees_needed_per_minute)\n",
    "    \n",
    "elif (degrees_per_minute < tracker_angle_increase_per_minute):\n",
    "    print(\"Too fast, reduce motor speed\")\n",
    "    \n",
    "    extra_degrees_per_minute = round(tracker_angle_increase_per_minute - degrees_per_minute,4)\n",
    "    printdegrees(\"Extra degrees per minute:\", extra_degrees_per_minute)\n",
    "    \n",
    "elif (degrees_per_minute == tracker_angle_increase_per_minute):\n",
    "    print(\"Tracker will keep up with the sun\")"
   ]
  },
  {
   "cell_type": "code",
   "execution_count": 10,
   "metadata": {},
   "outputs": [
    {
     "name": "stdout",
     "output_type": "stream",
     "text": [
      "tracker_angle_increase_per_four_minutes: = 0.0° 59.0' 27.0632\"\n",
      "Required degrees per four minutes:       = 1.0° 0.0' 9.8564\"\n",
      "Too slow, increase motor speed\n",
      "Extra degrees needed per four minutes: = 0.0° 0.0' 42.84\"\n"
     ]
    }
   ],
   "source": [
    "tracker_angle_increase_per_four_minutes = tracker_angle_increase_per_minute * 4;\n",
    "printdegrees(\"tracker_angle_increase_per_four_minutes:\",tracker_angle_increase_per_four_minutes)\n",
    "printdegrees(\"Required degrees per four minutes:      \", degrees_per_minute*4)\n",
    "if (degrees_per_minute*4 > tracker_angle_increase_per_four_minutes):\n",
    "    print(\"Too slow, increase motor speed\")\n",
    "    \n",
    "    extra_degrees_needed_per_four_minutes = round(degrees_per_minute*4 - tracker_angle_increase_per_four_minutes,4)\n",
    "    printdegrees(\"Extra degrees needed per four minutes:\", extra_degrees_needed_per_four_minutes)\n",
    "elif (degrees_per_minute*4 < tracker_angle_increase_per_four_minutes):\n",
    "    print(\"Too fast, reduce motor speed\")\n",
    "    \n",
    "    extra_degrees_per_four_minutes = round(tracker_angle_increase_per_four_minutes - degrees_per_minute*4,4)\n",
    "    printdegrees(\"Extra degrees per four minutes:\", extra_degrees_per_four_minutes)\n",
    "elif (degrees_per_minute*4 == tracker_angle_increase_per_four_minutes):\n",
    "    print(\"Tracker will keep up with the sun\")"
   ]
  }
 ],
 "metadata": {
  "kernelspec": {
   "display_name": "Python 3",
   "language": "python",
   "name": "python3"
  },
  "language_info": {
   "codemirror_mode": {
    "name": "ipython",
    "version": 3
   },
   "file_extension": ".py",
   "mimetype": "text/x-python",
   "name": "python",
   "nbconvert_exporter": "python",
   "pygments_lexer": "ipython3",
   "version": "3.10.6"
  },
  "orig_nbformat": 4,
  "vscode": {
   "interpreter": {
    "hash": "74b26ae58a4ca6d293c3c55f76a6af5196654a2520bba85b8cf20cb3236ce50e"
   }
  }
 },
 "nbformat": 4,
 "nbformat_minor": 2
}
