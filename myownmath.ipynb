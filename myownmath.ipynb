{
 "cells": [
  {
   "cell_type": "code",
   "execution_count": null,
   "metadata": {},
   "outputs": [],
   "source": [
    "import math\n"
   ]
  },
  {
   "cell_type": "code",
   "execution_count": null,
   "metadata": {},
   "outputs": [],
   "source": [
    "def decdeg2dms(dd):\n",
    "    is_positive = dd >= 0\n",
    "    dd = abs(dd)\n",
    "    minutes, seconds = divmod(dd*3600, 60)\n",
    "    degrees, minutes = divmod(minutes, 60)\n",
    "    degrees = degrees if is_positive else -degrees\n",
    "    return (round(degrees, 4), round(minutes, 4), round(seconds, 4))\n",
    "\n",
    "def printdegrees(str, dd):\n",
    "    dms = decdeg2dms(dd)\n",
    "    print(str, \" = \", dms[0], chr(176), \" \",\n",
    "          dms[1], chr(39), \" \", dms[2], chr(34), sep='')\n",
    "\n"
   ]
  },
  {
   "cell_type": "code",
   "execution_count": null,
   "metadata": {},
   "outputs": [],
   "source": [
    "# Some global variables\n",
    "\n",
    "# max 9\n",
    "radius_of_tracker_in_inches = 9  # inches\n",
    "radius_of_tracker_in_mm = radius_of_tracker_in_inches * 25.4\n",
    "print(\"Radius of tracker in mm:\", radius_of_tracker_in_mm)\n"
   ]
  },
  {
   "cell_type": "code",
   "execution_count": null,
   "metadata": {},
   "outputs": [],
   "source": [
    "angle_of_one_thread_revolution = 0  # degrees\n",
    "thread_pitch_in_mm = 1\n",
    "\n",
    "# angle_of_one_thread_revolution = (180/math.pi)*math.asin(radius_of_tracker_in_mm/radius_of_tracker_in_mm) - math.asin(\n",
    "#     (radius_of_tracker_in_mm-thread_pitch_in_mm)/radius_of_tracker_in_mm)\n",
    "\n",
    "# sin(theta) = altitude / hypotneus\n",
    "\n",
    "angle_of_one_thread_revolution = (180/math.pi)*math.asin(thread_pitch_in_mm/radius_of_tracker_in_mm)\n",
    "\n",
    "# angle_of_one_thread_revolution = (180/math.pi)*math.acos((radius_of_tracker_in_mm**2 + radius_of_tracker_in_mm**2 -\n",
    "#                                                           thread_pitch_in_mm**2) / (2 * radius_of_tracker_in_mm * radius_of_tracker_in_mm))\n",
    "\n",
    "print(\"radius_of_tracker_in_inches = \", radius_of_tracker_in_inches, \"inch\")\n",
    "print(\"thread_pitch = \", thread_pitch_in_mm, \"mm\")\n",
    "printdegrees(\"angle_of_one_thread_revolution =\", angle_of_one_thread_revolution)"
   ]
  },
  {
   "cell_type": "code",
   "execution_count": null,
   "metadata": {},
   "outputs": [],
   "source": [
    "min_motor_rpm = 1 # rpm\n",
    "motor_gear_teeth = 18\n",
    "driven_gear_teeth = 90\n",
    "gear_reduction = motor_gear_teeth/driven_gear_teeth\n",
    "output_rpm = min_motor_rpm * gear_reduction\n",
    "\n",
    "print(\"motor_rpm = \", min_motor_rpm, \" rpm\")\n",
    "print(\"output_rpm = \", output_rpm, \" rpm\")\n",
    "print(\"Gear reduction = \", gear_reduction)\n"
   ]
  },
  {
   "cell_type": "code",
   "execution_count": null,
   "metadata": {},
   "outputs": [],
   "source": [
    "sidereal_day_hours = 23.9344699\n",
    "# rads_per_sec = 2*math.pi/sidereal_day_hours/3600\n",
    "# degrees_per_sec = rads_per_sec*180/math.pi\n",
    "degrees_per_sec = 360/sidereal_day_hours/3600\n",
    "degrees_per_minute = degrees_per_sec*60\n",
    "degrees_per_hour = degrees_per_sec*3600\n",
    "degrees_per_day = degrees_per_sec*3600*24\n",
    "# print(\"Radians per second: \", rads_per_sec)\n",
    "print(\"Degrees per second: \", degrees_per_sec)\n",
    "print(\"Degrees per minute: \", degrees_per_minute)\n",
    "print(\"Degrees per hour: \", degrees_per_hour)\n",
    "print(\"Degrees per day: \", degrees_per_day)\n"
   ]
  },
  {
   "cell_type": "code",
   "execution_count": null,
   "metadata": {},
   "outputs": [],
   "source": [
    "output_rps = output_rpm/60\n",
    "print(\"output_rpm = \", output_rpm, \" rpm\")\n",
    "print(\"output_rps = \", output_rps, \" rps\")\n",
    "tracker_angle_increase_per_second = output_rps * angle_of_one_thread_revolution\n",
    "printdegrees(\"tracker_angle_increase_per_second = \",\n",
    "             tracker_angle_increase_per_second)\n",
    "printdegrees(\"Required degrees per second:\", degrees_per_sec)\n",
    "\n",
    "if (degrees_per_sec > tracker_angle_increase_per_second):\n",
    "    print(\"Too slow, increase motor speed\")\n",
    "\n",
    "    extra_degrees_needed_per_sec = degrees_per_sec - tracker_angle_increase_per_second\n",
    "    printdegrees(\"Extra degrees needed per second:\",\n",
    "                 extra_degrees_needed_per_sec)\n",
    "\n",
    "\n",
    "elif (degrees_per_sec < tracker_angle_increase_per_second):\n",
    "    print(\"Too fast, reduce motor speed\")\n",
    "\n",
    "    extra_degrees_per_sec = tracker_angle_increase_per_second - degrees_per_sec\n",
    "    printdegrees(\"Extra degrees per second:\", extra_degrees_per_sec)\n",
    "\n",
    "\n",
    "elif (degrees_per_sec == tracker_angle_increase_per_second):\n",
    "    print(\"Tracker will keep up with the stars\")\n"
   ]
  },
  {
   "cell_type": "code",
   "execution_count": null,
   "metadata": {},
   "outputs": [],
   "source": [
    "tracker_angle_increase_per_minute = tracker_angle_increase_per_second * 60\n",
    "printdegrees(\"tracker_angle_increase_per_minute:\",\n",
    "             tracker_angle_increase_per_minute)\n",
    "printdegrees(\"Required degrees per minute:      \", degrees_per_minute)\n",
    "if (degrees_per_minute > tracker_angle_increase_per_minute):\n",
    "    print(\"Too slow, increase motor speed\")\n",
    "\n",
    "    extra_degrees_needed_per_minute = round(\n",
    "        degrees_per_minute - tracker_angle_increase_per_minute, 4)\n",
    "    printdegrees(\"Extra degrees needed per minute:\",\n",
    "                 extra_degrees_needed_per_minute)\n",
    "\n",
    "elif (degrees_per_minute < tracker_angle_increase_per_minute):\n",
    "    print(\"Too fast, reduce motor speed\")\n",
    "\n",
    "    extra_degrees_per_minute = round(\n",
    "        tracker_angle_increase_per_minute - degrees_per_minute, 4)\n",
    "    printdegrees(\"Extra degrees per minute:\", extra_degrees_per_minute)\n",
    "\n",
    "elif (degrees_per_minute == tracker_angle_increase_per_minute):\n",
    "    print(\"Tracker will keep up with the stars\")\n"
   ]
  },
  {
   "cell_type": "code",
   "execution_count": null,
   "metadata": {},
   "outputs": [],
   "source": [
    "tracker_angle_increase_per_four_minutes = tracker_angle_increase_per_minute * 4\n",
    "printdegrees(\"tracker_angle_increase_per_four_minutes:\",\n",
    "             tracker_angle_increase_per_four_minutes)\n",
    "printdegrees(\"Required degrees per four minutes:      \", degrees_per_minute*4)\n",
    "if (degrees_per_minute*4 > tracker_angle_increase_per_four_minutes):\n",
    "    print(\"Too slow, increase motor speed\")\n",
    "\n",
    "    extra_degrees_needed_per_four_minutes = round(\n",
    "        degrees_per_minute*4 - tracker_angle_increase_per_four_minutes, 4)\n",
    "    printdegrees(\"Extra degrees needed per four minutes:\",\n",
    "                 extra_degrees_needed_per_four_minutes)\n",
    "elif (degrees_per_minute*4 < tracker_angle_increase_per_four_minutes):\n",
    "    print(\"Too fast, reduce motor speed\")\n",
    "\n",
    "    extra_degrees_per_four_minutes = round(\n",
    "        tracker_angle_increase_per_four_minutes - degrees_per_minute*4, 4)\n",
    "    printdegrees(\"Extra degrees per four minutes:\",\n",
    "                 extra_degrees_per_four_minutes)\n",
    "elif (degrees_per_minute*4 == tracker_angle_increase_per_four_minutes):\n",
    "    print(\"Tracker will keep up with the stars\")\n"
   ]
  }
 ],
 "metadata": {
  "kernelspec": {
   "display_name": "Python 3",
   "language": "python",
   "name": "python3"
  },
  "language_info": {
   "codemirror_mode": {
    "name": "ipython",
    "version": 3
   },
   "file_extension": ".py",
   "mimetype": "text/x-python",
   "name": "python",
   "nbconvert_exporter": "python",
   "pygments_lexer": "ipython3",
   "version": "3.10.6"
  },
  "orig_nbformat": 4,
  "vscode": {
   "interpreter": {
    "hash": "74b26ae58a4ca6d293c3c55f76a6af5196654a2520bba85b8cf20cb3236ce50e"
   }
  }
 },
 "nbformat": 4,
 "nbformat_minor": 2
}
